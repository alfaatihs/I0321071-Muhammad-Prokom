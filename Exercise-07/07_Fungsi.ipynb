{
 "cells": [
  {
   "cell_type": "markdown",
   "metadata": {},
   "source": [
    "***\n",
    "<h1 align=\"center\">Exercise 07</h1>\n",
    "\n",
    "***\n",
    "## Memanggil Fungsi\n",
    "\n",
    "### 1. Fungsi tanpa Nilai Balik\n",
    "Buatlah kode seperti contoh berikut pada cell di bawah\n",
    "> Ubah variabel **cetak** sesuai dengan **umur** kalian!\n",
    "\n",
    "![](./images/07_TanpaNB.png)"
   ]
  },
  {
   "cell_type": "code",
   "execution_count": 1,
   "metadata": {},
   "outputs": [
    {
     "name": "stdout",
     "output_type": "stream",
     "text": [
      "Umur =  18\n"
     ]
    }
   ],
   "source": [
    "#kerjakan disini\n",
    "\n",
    "cetak = 18\n",
    "print(\"Umur = \", cetak)\n"
   ]
  },
  {
   "cell_type": "markdown",
   "metadata": {},
   "source": [
    "### 2. Fungsi dengan Nilai Balik\n",
    "Buatlah kode seperti contoh berikut pada cell di bawah\n",
    "> Ubah variabel **x** dengan 2 digit terakhir **NIM** kalian!\n",
    "\n",
    "> Ubah variabel **y** dengan **angka 7**!\n",
    "\n",
    "![](./images/07_DenganNB.png)"
   ]
  },
  {
   "cell_type": "code",
   "execution_count": 2,
   "metadata": {},
   "outputs": [
    {
     "name": "stdout",
     "output_type": "stream",
     "text": [
      "x =  71\n",
      "y =  7\n",
      "hasil (x+y)=  78\n"
     ]
    }
   ],
   "source": [
    "#Kerjakan disini!\n",
    "x = 71\n",
    "y = 7\n",
    "print(\"x = \", x)\n",
    "print(\"y = \", y)\n",
    "print(\"hasil (x+y)= \", x+y)\n",
    "\n",
    "\n"
   ]
  },
  {
   "cell_type": "markdown",
   "metadata": {},
   "source": [
    "## Variabel Global dan Variabel Lokal\n",
    "Buatlah kode seperti contoh berikut pada cell di bawah\n",
    "> Pada variabel global, ubah **nama** menjadi **nama panggilan** kalian!\n",
    "\n",
    "> Pada variabel lokal, ubah **nama** menjadi **nama lengkap** kalian!\n",
    "\n",
    "![](./images/07_GlobalLokal.png)"
   ]
  },
  {
   "cell_type": "code",
   "execution_count": 3,
   "metadata": {},
   "outputs": [
    {
     "name": "stdout",
     "output_type": "stream",
     "text": [
      "nama = Muhammad Alfaatih Salsabila\n",
      "tahun = 2019\n",
      "nama = Faatih\n",
      "tahun = 19\n"
     ]
    }
   ],
   "source": [
    "#Kerjakan disini\n",
    "\n",
    "#Variabel global\n",
    "nama = \"Muhammad Alfaatih Salsabila\"\n",
    "tahun = \"2019\"\n",
    "\n",
    "def help():\n",
    "    #Variabel lokal\n",
    "    nama = \"Faatih\"\n",
    "    tahun = \"19\"\n",
    "    print(\"nama = %s\" % nama)\n",
    "    print(\"tahun = %s\" % tahun)\n",
    "\n",
    "print(\"nama = %s\" % nama)\n",
    "print(\"tahun = %s\" % tahun)\n",
    "help()\n"
   ]
  },
  {
   "cell_type": "markdown",
   "metadata": {},
   "source": [
    "## Parameter di Dalam Fungsi\n",
    "Buatlah kode seperti contoh berikut pada cell di bawah\n",
    "\n",
    "![](./images/07_Parameter.png)"
   ]
  },
  {
   "cell_type": "code",
   "execution_count": 4,
   "metadata": {},
   "outputs": [
    {
     "name": "stdout",
     "output_type": "stream",
     "text": [
      "x =  2.0\n",
      "y =  9.0\n"
     ]
    }
   ],
   "source": [
    "#Kerjakan disini\n",
    "\n",
    "import math\n",
    "def main():\n",
    "    x = math.sqrt(4)\n",
    "    y = math.sqrt(81)\n",
    "    print(\"x = \", x)\n",
    "    print(\"y = \", y)\n",
    "main()\n"
   ]
  },
  {
   "cell_type": "markdown",
   "metadata": {},
   "source": [
    "## Fungsi di Dalam Fungsi\n",
    "Buatlah kode seperti contoh berikut pada cell di bawah\n",
    "> Ubah parameter **start_minute** dan **start_second** dengan waktu yang kalian inginkan\n",
    "\n",
    "![](./images/07_FungsidlmFungsi.png)"
   ]
  },
  {
   "cell_type": "code",
   "execution_count": 7,
   "metadata": {},
   "outputs": [
    {
     "name": "stdout",
     "output_type": "stream",
     "text": [
      "Done!\n"
     ]
    }
   ],
   "source": [
    "#Kerjakan disini\n",
    "\n",
    "import time\n",
    "\n",
    "def countdownTimer(start_minute, start_second):\n",
    "    total_second = start_minute * 60 + start_second\n",
    "    while total_second:\n",
    "        mins, secs = divmod(total_second, 60)\n",
    "        print(f'{mins:02d}:{secs:02d}', end ='\\r')\n",
    "        time.sleep(1)\n",
    "        total_second -= 1\n",
    "\n",
    "def main():\n",
    "    countdownTimer(1,23)\n",
    "    print(\"Done!\")\n",
    "\n",
    "main()"
   ]
  },
  {
   "cell_type": "markdown",
   "metadata": {},
   "source": [
    "## Fungsi yang Mengembalikan Fungsi\n",
    "Buatlah kode seperti contoh berikut pada cell di bawah\n",
    "\n",
    "![](./images/07_Mengembalikan.png)"
   ]
  },
  {
   "cell_type": "code",
   "execution_count": 8,
   "metadata": {},
   "outputs": [
    {
     "ename": "NameError",
     "evalue": "name 'holloworld' is not defined",
     "output_type": "error",
     "traceback": [
      "\u001b[1;31m---------------------------------------------------------------------------\u001b[0m",
      "\u001b[1;31mNameError\u001b[0m                                 Traceback (most recent call last)",
      "\u001b[1;32md:\\Kuliah\\Semester 2\\Praktikum Prokom\\I0321071-Muhammad-Prokom\\Exercise-07\\07_Fungsi.ipynb Cell 12'\u001b[0m in \u001b[0;36m<cell line: 9>\u001b[1;34m()\u001b[0m\n\u001b[0;32m      <a href='vscode-notebook-cell:/d%3A/Kuliah/Semester%202/Praktikum%20Prokom/I0321071-Muhammad-Prokom/Exercise-07/07_Fungsi.ipynb#ch0000011?line=7'>8</a>\u001b[0m     \u001b[39mprint\u001b[39m(s)\n\u001b[0;32m      <a href='vscode-notebook-cell:/d%3A/Kuliah/Semester%202/Praktikum%20Prokom/I0321071-Muhammad-Prokom/Exercise-07/07_Fungsi.ipynb#ch0000011?line=8'>9</a>\u001b[0m \u001b[39mif\u001b[39;00m \u001b[39m__name__\u001b[39m \u001b[39m==\u001b[39m \u001b[39m'\u001b[39m\u001b[39m__main__\u001b[39m\u001b[39m'\u001b[39m:\n\u001b[1;32m---> <a href='vscode-notebook-cell:/d%3A/Kuliah/Semester%202/Praktikum%20Prokom/I0321071-Muhammad-Prokom/Exercise-07/07_Fungsi.ipynb#ch0000011?line=9'>10</a>\u001b[0m     main()\n",
      "\u001b[1;32md:\\Kuliah\\Semester 2\\Praktikum Prokom\\I0321071-Muhammad-Prokom\\Exercise-07\\07_Fungsi.ipynb Cell 12'\u001b[0m in \u001b[0;36mmain\u001b[1;34m()\u001b[0m\n\u001b[0;32m      <a href='vscode-notebook-cell:/d%3A/Kuliah/Semester%202/Praktikum%20Prokom/I0321071-Muhammad-Prokom/Exercise-07/07_Fungsi.ipynb#ch0000011?line=5'>6</a>\u001b[0m \u001b[39mdef\u001b[39;00m \u001b[39mmain\u001b[39m():\n\u001b[1;32m----> <a href='vscode-notebook-cell:/d%3A/Kuliah/Semester%202/Praktikum%20Prokom/I0321071-Muhammad-Prokom/Exercise-07/07_Fungsi.ipynb#ch0000011?line=6'>7</a>\u001b[0m     s \u001b[39m=\u001b[39m panggil(holloworld())\n\u001b[0;32m      <a href='vscode-notebook-cell:/d%3A/Kuliah/Semester%202/Praktikum%20Prokom/I0321071-Muhammad-Prokom/Exercise-07/07_Fungsi.ipynb#ch0000011?line=7'>8</a>\u001b[0m     \u001b[39mprint\u001b[39m(s)\n",
      "\u001b[1;31mNameError\u001b[0m: name 'holloworld' is not defined"
     ]
    }
   ],
   "source": [
    "#Kerjakan disini\n",
    "def panggil(func):\n",
    "    return func\n",
    "def helloworld():\n",
    "    return \"HELLO WORLD\"\n",
    "def main():\n",
    "    s = panggil(holloworld())\n",
    "    print(s)\n",
    "if __name__ == '__main__':\n",
    "    main()\n",
    "\n"
   ]
  },
  {
   "cell_type": "markdown",
   "metadata": {},
   "source": [
    "## Membuat Fungsi Tanpa Nama dengan Operator Lambda\n",
    "Buatlah kode seperti contoh berikut pada cell di bawah\n",
    "> Ubah list **daftarnama** menjadi tiap **suku kata nama** kalian dengan campuran huruf kapital dan huruf kecil!\n",
    "\n",
    "![](./images/07_Lambda.png)"
   ]
  },
  {
   "cell_type": "code",
   "execution_count": 14,
   "metadata": {},
   "outputs": [],
   "source": [
    "#Kerjakan disini\n"
   ]
  },
  {
   "cell_type": "markdown",
   "metadata": {},
   "source": [
    "## Rekursi\n",
    "Buatlah kode seperti contoh berikut pada cell di bawah\n",
    "> Inputkan bilangan bebas pada kotak kolom di bagian atas\n",
    "\n",
    "![](./images/07_Rekursi.png)"
   ]
  },
  {
   "cell_type": "code",
   "execution_count": 15,
   "metadata": {},
   "outputs": [],
   "source": [
    "#Kerjakan disini\n"
   ]
  },
  {
   "cell_type": "markdown",
   "metadata": {},
   "source": [
    "### Membuat kode\n",
    "Buatlah sebuah program yang dapat mengurutkan nama bulan secara alfabetis, dengan ketentuan sebagai berikut:\n",
    "- Data awal berupa list bulan Januari - Desember dengan huruf awal bervariasi (huruf kapital dan kecil)\n",
    "- Urutkan nama menggunakan **sorted()**\n",
    "- Kemudian urutkan nama sesuai abjad tanpa mepedulikan huruf awal (huruf kapital atau huruf kecil)"
   ]
  },
  {
   "cell_type": "code",
   "execution_count": null,
   "metadata": {},
   "outputs": [],
   "source": []
  },
  {
   "cell_type": "markdown",
   "metadata": {},
   "source": [
    "### Cara Pengumpulan\n",
    "\n",
    "1. Buka *New Terminal*\n",
    "2. Pastikan *path* Terminal adalah folder repositori kalian (NIM-Nama-Prokom).\n",
    "3. Tambahkan file yang akan ditrack dengan `git add <nama file>`. Nama file bisa diubah . (titik) yang artinya semua file dalam folder akan ditrack.\n",
    "4. Lakukan commit perubahan dengan `git commit -m <deskripsi>`.\n",
    "5. Lakukan push dengan `git push -u origin <nama branch>`. Nama branch dapat diketahui dengan `git branch`.\n",
    "6. Pastikan Exercise-07 telah terupload dan dapat diakses di repositori dengan mengaksesnya di browser."
   ]
  },
  {
   "cell_type": "markdown",
   "metadata": {},
   "source": [
    "***\n",
    "<h1 align=\"center\">Well Done!!!</h1> \n",
    "\n",
    "***"
   ]
  }
 ],
 "metadata": {
  "interpreter": {
   "hash": "ac59ebe37160ed0dfa835113d9b8498d9f09ceb179beaac4002f036b9467c963"
  },
  "kernelspec": {
   "display_name": "Python 3.9.8 64-bit",
   "language": "python",
   "name": "python3"
  },
  "language_info": {
   "codemirror_mode": {
    "name": "ipython",
    "version": 3
   },
   "file_extension": ".py",
   "mimetype": "text/x-python",
   "name": "python",
   "nbconvert_exporter": "python",
   "pygments_lexer": "ipython3",
   "version": "3.10.2"
  },
  "orig_nbformat": 4
 },
 "nbformat": 4,
 "nbformat_minor": 2
}
